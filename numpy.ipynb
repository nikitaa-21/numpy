{
 "cells": [
  {
   "cell_type": "code",
   "execution_count": null,
   "id": "c76fd337",
   "metadata": {},
   "outputs": [],
   "source": [
    "\"\"\"1. Create a NumPy array 'arr' of integers from 0 to 5 and print its data type."
   ]
  },
  {
   "cell_type": "code",
   "execution_count": 1,
   "id": "9440bda0",
   "metadata": {},
   "outputs": [
    {
     "data": {
      "text/plain": [
       "array([0, 1, 2, 3, 4, 5])"
      ]
     },
     "execution_count": 1,
     "metadata": {},
     "output_type": "execute_result"
    }
   ],
   "source": [
    "import numpy as np\n",
    "\n",
    "arr = np.array([0, 1, 2, 3, 4, 5])\n",
    "\n",
    "arr"
   ]
  },
  {
   "cell_type": "code",
   "execution_count": 4,
   "id": "2623ff78",
   "metadata": {},
   "outputs": [
    {
     "data": {
      "text/plain": [
       "dtype('int32')"
      ]
     },
     "execution_count": 4,
     "metadata": {},
     "output_type": "execute_result"
    }
   ],
   "source": [
    "arr.dtype"
   ]
  },
  {
   "cell_type": "code",
   "execution_count": null,
   "id": "a11fa798",
   "metadata": {},
   "outputs": [],
   "source": [
    "\"\"\"2. Given a NumPy array 'arr', check if its data type is float64.\n",
    "arr = np.array([1.5, 2.6, 3.7])"
   ]
  },
  {
   "cell_type": "code",
   "execution_count": 6,
   "id": "faa60eb1",
   "metadata": {},
   "outputs": [
    {
     "data": {
      "text/plain": [
       "dtype('float64')"
      ]
     },
     "execution_count": 6,
     "metadata": {},
     "output_type": "execute_result"
    }
   ],
   "source": [
    "arr = np.array([1.5, 2.6, 3.7])\n",
    "arr.dtype"
   ]
  },
  {
   "cell_type": "code",
   "execution_count": null,
   "id": "01de464e",
   "metadata": {},
   "outputs": [],
   "source": [
    "\"\"\"3. Create a NumPy array 'arr' with a data type of complex128 containing three complex numbers."
   ]
  },
  {
   "cell_type": "code",
   "execution_count": 7,
   "id": "d506fa3c",
   "metadata": {},
   "outputs": [
    {
     "data": {
      "text/plain": [
       "array([1.+2.j, 3.+4.j, 5.+6.j])"
      ]
     },
     "execution_count": 7,
     "metadata": {},
     "output_type": "execute_result"
    }
   ],
   "source": [
    "arr = np.array([1+2j, 3+4j, 5+6j], dtype=np.complex128)\n",
    "arr"
   ]
  },
  {
   "cell_type": "code",
   "execution_count": null,
   "id": "78b9a7d2",
   "metadata": {},
   "outputs": [],
   "source": [
    "\"\"\"4. Convert an existing NumPy array 'arr' of integers to float32 data type."
   ]
  },
  {
   "cell_type": "code",
   "execution_count": 8,
   "id": "014e737b",
   "metadata": {},
   "outputs": [
    {
     "data": {
      "text/plain": [
       "array([1, 2, 3, 4, 5])"
      ]
     },
     "execution_count": 8,
     "metadata": {},
     "output_type": "execute_result"
    }
   ],
   "source": [
    "arr = np.array([1, 2, 3, 4, 5])\n",
    "\n",
    "arr_float = arr.astype(np.float32)\n",
    "\n",
    "arr"
   ]
  },
  {
   "cell_type": "code",
   "execution_count": 9,
   "id": "7f30c954",
   "metadata": {},
   "outputs": [
    {
     "data": {
      "text/plain": [
       "dtype('float32')"
      ]
     },
     "execution_count": 9,
     "metadata": {},
     "output_type": "execute_result"
    }
   ],
   "source": [
    "arr_float.dtype"
   ]
  },
  {
   "cell_type": "code",
   "execution_count": null,
   "id": "29419837",
   "metadata": {},
   "outputs": [],
   "source": [
    "\"\"\"5. Given a NumPy array 'arr' with float64 data type, convert it to float32 to reduce decimal precision."
   ]
  },
  {
   "cell_type": "code",
   "execution_count": 10,
   "id": "d9bd3f07",
   "metadata": {},
   "outputs": [
    {
     "data": {
      "text/plain": [
       "array([1.12345679, 2.98765432, 3.45678912])"
      ]
     },
     "execution_count": 10,
     "metadata": {},
     "output_type": "execute_result"
    }
   ],
   "source": [
    "arr = np.array([1.123456789, 2.987654321, 3.456789123], dtype=np.float64)\n",
    "\n",
    "arr_float32 = arr.astype(np.float32)\n",
    "\n",
    "arr"
   ]
  },
  {
   "cell_type": "code",
   "execution_count": 11,
   "id": "329ab1b5",
   "metadata": {},
   "outputs": [
    {
     "data": {
      "text/plain": [
       "dtype('float64')"
      ]
     },
     "execution_count": 11,
     "metadata": {},
     "output_type": "execute_result"
    }
   ],
   "source": [
    "arr.dtype"
   ]
  },
  {
   "cell_type": "code",
   "execution_count": 12,
   "id": "a9ecd274",
   "metadata": {},
   "outputs": [
    {
     "data": {
      "text/plain": [
       "dtype('float32')"
      ]
     },
     "execution_count": 12,
     "metadata": {},
     "output_type": "execute_result"
    }
   ],
   "source": [
    "arr_float"
   ]
  },
  {
   "cell_type": "code",
   "execution_count": null,
   "id": "42990ded",
   "metadata": {},
   "outputs": [],
   "source": [
    "\"\"\"6. Write a function array_attributes that takes a NumPy array as input and returns its shape, size, and data\n",
    "type."
   ]
  },
  {
   "cell_type": "code",
   "execution_count": 13,
   "id": "d9bb3041",
   "metadata": {},
   "outputs": [
    {
     "name": "stdout",
     "output_type": "stream",
     "text": [
      "Shape: (2, 3)\n",
      "Size: 6\n",
      "Data type: int32\n"
     ]
    }
   ],
   "source": [
    "def array_attributes(arr):\n",
    "    shape = arr.shape\n",
    "    size = arr.size\n",
    "    dtype = arr.dtype\n",
    "    \n",
    "    return shape, size, dtype\n",
    "\n",
    "arr = np.array([[1, 2, 3], [4, 5, 6]])\n",
    "attributes = array_attributes(arr)\n",
    "\n",
    "print(\"Shape:\", attributes[0])\n",
    "print(\"Size:\", attributes[1])\n",
    "print(\"Data type:\", attributes[2])"
   ]
  },
  {
   "cell_type": "code",
   "execution_count": null,
   "id": "0ccbed3d",
   "metadata": {},
   "outputs": [],
   "source": [
    "\"\"\"7. Create a function array_dimension that takes a NumPy array as input and returns its dimensionality"
   ]
  },
  {
   "cell_type": "code",
   "execution_count": 14,
   "id": "4c0aedfd",
   "metadata": {},
   "outputs": [
    {
     "name": "stdout",
     "output_type": "stream",
     "text": [
      "Dimensionality: 2\n"
     ]
    }
   ],
   "source": [
    "def array_dimension(arr):\n",
    "    return arr.ndim\n",
    "\n",
    "arr = np.array([[1, 2, 3], [4, 5, 6]])\n",
    "dimension = array_dimension(arr)\n",
    "\n",
    "print(\"Dimensionality:\", dimension)"
   ]
  },
  {
   "cell_type": "code",
   "execution_count": null,
   "id": "ab5b36cb",
   "metadata": {},
   "outputs": [],
   "source": [
    "\"\"\"8. Design a function item_size_info that takes a NumPy array as input and returns the item size and the total\n",
    "size in bytes."
   ]
  },
  {
   "cell_type": "code",
   "execution_count": 15,
   "id": "ad5872e3",
   "metadata": {},
   "outputs": [
    {
     "name": "stdout",
     "output_type": "stream",
     "text": [
      "Item size (bytes): 4\n",
      "Total size (bytes): 24\n"
     ]
    }
   ],
   "source": [
    "def item_size_info(arr):\n",
    "    item_size = arr.itemsize\n",
    "    total_size = arr.nbytes\n",
    "  \n",
    "    return item_size, total_size\n",
    "\n",
    "arr = np.array([[1, 2, 3], [4, 5, 6]])\n",
    "item_size, total_size = item_size_info(arr)\n",
    "\n",
    "print(\"Item size (bytes):\", item_size)\n",
    "print(\"Total size (bytes):\", total_size)"
   ]
  },
  {
   "cell_type": "code",
   "execution_count": null,
   "id": "6e1dd62c",
   "metadata": {},
   "outputs": [],
   "source": [
    "\"\"\"9. Create a function array_strides that takes a NumPy array as input and returns the strides of the array"
   ]
  },
  {
   "cell_type": "code",
   "execution_count": 16,
   "id": "c40c8173",
   "metadata": {},
   "outputs": [
    {
     "name": "stdout",
     "output_type": "stream",
     "text": [
      "Strides: (12, 4)\n"
     ]
    }
   ],
   "source": [
    "def array_strides(arr):\n",
    "    return arr.strides\n",
    "\n",
    "arr = np.array([[1, 2, 3], [4, 5, 6]])\n",
    "strides = array_strides(arr)\n",
    "\n",
    "print(\"Strides:\", strides)"
   ]
  },
  {
   "cell_type": "code",
   "execution_count": null,
   "id": "881ef5e6",
   "metadata": {},
   "outputs": [],
   "source": [
    "\"\"\"10. Design a function shape_stride_relationship that takes a NumPy array as input and returns the shape\n",
    "and strides of the array."
   ]
  },
  {
   "cell_type": "code",
   "execution_count": 17,
   "id": "0db9c80e",
   "metadata": {},
   "outputs": [
    {
     "name": "stdout",
     "output_type": "stream",
     "text": [
      "Shape: (2, 3)\n",
      "Strides: (12, 4)\n"
     ]
    }
   ],
   "source": [
    "def shape_stride_relationship(arr):\n",
    "    shape = arr.shape\n",
    "    strides = arr.strides\n",
    "    \n",
    "    return shape, strides\n",
    "\n",
    "arr = np.array([[1, 2, 3], [4, 5, 6]])\n",
    "shape, strides = shape_stride_relationship(arr)\n",
    "\n",
    "print(\"Shape:\", shape)\n",
    "print(\"Strides:\", strides)"
   ]
  },
  {
   "cell_type": "code",
   "execution_count": null,
   "id": "1ec6d9e9",
   "metadata": {},
   "outputs": [],
   "source": [
    "\"\"\"11. Create a function `create_zeros_array` that takes an integer `n` as input and returns a NumPy array of\n",
    "zeros with `n` elements"
   ]
  },
  {
   "cell_type": "code",
   "execution_count": 18,
   "id": "cb91b77a",
   "metadata": {},
   "outputs": [
    {
     "name": "stdout",
     "output_type": "stream",
     "text": [
      "Array of zeros: [0. 0. 0. 0. 0.]\n"
     ]
    }
   ],
   "source": [
    "def create_zeros_array(n):\n",
    "    return np.zeros(n)\n",
    "\n",
    "n = 5\n",
    "zeros_array = create_zeros_array(n)\n",
    "\n",
    "print(\"Array of zeros:\", zeros_array)"
   ]
  },
  {
   "cell_type": "code",
   "execution_count": null,
   "id": "9fb26f59",
   "metadata": {},
   "outputs": [],
   "source": [
    "\"\"\"12. Write a function `create_ones_matrix` that takes integers `rows` and `cols` as inputs and generates a 2D\n",
    "NumPy array filled with ones of size `rows x cols`."
   ]
  },
  {
   "cell_type": "code",
   "execution_count": 19,
   "id": "bab150cc",
   "metadata": {},
   "outputs": [
    {
     "name": "stdout",
     "output_type": "stream",
     "text": [
      "2D array of ones:\n",
      " [[1. 1. 1. 1.]\n",
      " [1. 1. 1. 1.]\n",
      " [1. 1. 1. 1.]]\n"
     ]
    }
   ],
   "source": [
    "def create_ones_matrix(rows, cols):\n",
    "    return np.ones((rows, cols))\n",
    "\n",
    "rows = 3\n",
    "cols = 4\n",
    "ones_matrix = create_ones_matrix(rows, cols)\n",
    "\n",
    "print(\"2D array of ones:\\n\", ones_matrix)"
   ]
  },
  {
   "cell_type": "code",
   "execution_count": null,
   "id": "d1198ba2",
   "metadata": {},
   "outputs": [],
   "source": [
    "\"\"\"13. Write a function `generate_range_array` that takes three integers start, stop, and step as arguments and\n",
    "creates a NumPy array with a range starting from `start`, ending at stop (exclusive), and with the specified\n",
    "`step`."
   ]
  },
  {
   "cell_type": "code",
   "execution_count": 20,
   "id": "027e70c1",
   "metadata": {},
   "outputs": [
    {
     "name": "stdout",
     "output_type": "stream",
     "text": [
      "Range array: [1 3 5 7 9]\n"
     ]
    }
   ],
   "source": [
    "def generate_range_array(start, stop, step):\n",
    "    return np.arange(start, stop, step)\n",
    "\n",
    "start = 1\n",
    "stop = 10\n",
    "step = 2\n",
    "range_array = generate_range_array(start, stop, step)\n",
    "\n",
    "print(\"Range array:\", range_array)"
   ]
  },
  {
   "cell_type": "code",
   "execution_count": null,
   "id": "a522521c",
   "metadata": {},
   "outputs": [],
   "source": [
    "\"\"\"14. Design a function `generate_linear_space` that takes two floats `start`, `stop`, and an integer `num` as\n",
    "arguments and generates a NumPy array with num equally spaced values between `start` and `stop`\n",
    "(inclusive)."
   ]
  },
  {
   "cell_type": "code",
   "execution_count": 21,
   "id": "3364725d",
   "metadata": {},
   "outputs": [
    {
     "name": "stdout",
     "output_type": "stream",
     "text": [
      "Linear space array: [0.   0.25 0.5  0.75 1.  ]\n"
     ]
    }
   ],
   "source": [
    "def generate_linear_space(start, stop, num):\n",
    "    return np.linspace(start, stop, num)\n",
    "\n",
    "start = 0.0\n",
    "stop = 1.0\n",
    "num = 5\n",
    "linear_space_array = generate_linear_space(start, stop, num)\n",
    "\n",
    "print(\"Linear space array:\", linear_space_array)"
   ]
  },
  {
   "cell_type": "code",
   "execution_count": null,
   "id": "9d76305a",
   "metadata": {},
   "outputs": [],
   "source": [
    "\"\"\"15. Create a function `create_identity_matrix` that takes an integer `n` as input and generates a square\n",
    "identity matrix of size `n x n` using `numpy.eye`."
   ]
  },
  {
   "cell_type": "code",
   "execution_count": 22,
   "id": "5dcd6fe6",
   "metadata": {},
   "outputs": [
    {
     "name": "stdout",
     "output_type": "stream",
     "text": [
      "Identity matrix:\n",
      " [[1. 0. 0. 0.]\n",
      " [0. 1. 0. 0.]\n",
      " [0. 0. 1. 0.]\n",
      " [0. 0. 0. 1.]]\n"
     ]
    }
   ],
   "source": [
    "def create_identity_matrix(n):\n",
    "    return np.eye(n)\n",
    "\n",
    "n = 4\n",
    "identity_matrix = create_identity_matrix(n)\n",
    "\n",
    "print(\"Identity matrix:\\n\", identity_matrix)"
   ]
  },
  {
   "cell_type": "code",
   "execution_count": null,
   "id": "d2a5c974",
   "metadata": {},
   "outputs": [],
   "source": [
    "\"\"\"16. Write a function that takes a Python list and converts it into a NumPy array."
   ]
  },
  {
   "cell_type": "code",
   "execution_count": 25,
   "id": "a789cec6",
   "metadata": {},
   "outputs": [
    {
     "name": "stdout",
     "output_type": "stream",
     "text": [
      "NumPy array: [1 2 3 4 5]\n"
     ]
    }
   ],
   "source": [
    "def list_to_array(py_list):\n",
    "    return np.array(py_list)\n",
    "\n",
    "py_list = [1, 2, 3, 4, 5]\n",
    "numpy_array = list_to_array(py_list)\n",
    "\n",
    "print(\"NumPy array:\", numpy_array)"
   ]
  },
  {
   "cell_type": "code",
   "execution_count": null,
   "id": "601b9839",
   "metadata": {},
   "outputs": [],
   "source": [
    "\"\"\"17. Create a NumPy array and demonstrate the use of `numpy.view` to create a new array object with the\n",
    "same data."
   ]
  },
  {
   "cell_type": "code",
   "execution_count": 28,
   "id": "0560fc93",
   "metadata": {},
   "outputs": [
    {
     "name": "stdout",
     "output_type": "stream",
     "text": [
      "Original array:\n",
      " [[10  2  3]\n",
      " [ 4  5  6]]\n",
      "View array:\n",
      " [[10  2  3]\n",
      " [ 4  5  6]]\n"
     ]
    }
   ],
   "source": [
    "array = np.array([[1, 2, 3], [4, 5, 6]])\n",
    "\n",
    "view_array = array.view()\n",
    "\n",
    "view_array[0, 0] = 10\n",
    "\n",
    "print(\"Original array:\\n\", array)\n",
    "print(\"View array:\\n\", view_array)"
   ]
  },
  {
   "cell_type": "code",
   "execution_count": null,
   "id": "3545b6c1",
   "metadata": {},
   "outputs": [],
   "source": [
    "\"\"\"18. Write a function that takes two NumPy arrays and concatenates them along a specified axis"
   ]
  },
  {
   "cell_type": "code",
   "execution_count": 29,
   "id": "cf812ee7",
   "metadata": {},
   "outputs": [
    {
     "name": "stdout",
     "output_type": "stream",
     "text": [
      "Concatenated along axis 0:\n",
      " [[ 1  2  3]\n",
      " [ 4  5  6]\n",
      " [ 7  8  9]\n",
      " [10 11 12]]\n"
     ]
    }
   ],
   "source": [
    "def concatenate_arrays(array1, array2, axis):\n",
    "    return np.concatenate((array1, array2), axis=axis)\n",
    "\n",
    "array1 = np.array([[1, 2, 3], [4, 5, 6]])\n",
    "array2 = np.array([[7, 8, 9], [10, 11, 12]])\n",
    "\n",
    "concatenated_array_axis0 = concatenate_arrays(array1, array2, axis=0)\n",
    "\n",
    "print(\"Concatenated along axis 0:\\n\", concatenated_array_axis0)"
   ]
  },
  {
   "cell_type": "code",
   "execution_count": null,
   "id": "5f433bfc",
   "metadata": {},
   "outputs": [],
   "source": [
    "\"\"\"19. Create two NumPy arrays with different shapes and concatenate them horizontally using `numpy.\n",
    "concatenate`."
   ]
  },
  {
   "cell_type": "code",
   "execution_count": 30,
   "id": "0a5f5c1d",
   "metadata": {},
   "outputs": [
    {
     "name": "stdout",
     "output_type": "stream",
     "text": [
      "Concatenated array:\n",
      " [[ 1  2  3  7  8]\n",
      " [ 4  5  6  9 10]]\n"
     ]
    }
   ],
   "source": [
    "array1 = np.array([[1, 2, 3], [4, 5, 6]])\n",
    "array2 = np.array([[7, 8], [9, 10]])\n",
    "\n",
    "concatenated_array = np.concatenate((array1, array2), axis=1)\n",
    "\n",
    "print(\"Concatenated array:\\n\", concatenated_array)"
   ]
  },
  {
   "cell_type": "code",
   "execution_count": null,
   "id": "3ae29ca1",
   "metadata": {},
   "outputs": [],
   "source": [
    "\"\"\"20. Write a function that vertically stacks multiple NumPy arrays given as a list"
   ]
  },
  {
   "cell_type": "code",
   "execution_count": 31,
   "id": "9b36d33c",
   "metadata": {},
   "outputs": [
    {
     "name": "stdout",
     "output_type": "stream",
     "text": [
      "Vertically stacked array:\n",
      " [[ 1  2  3]\n",
      " [ 4  5  6]\n",
      " [ 7  8  9]\n",
      " [10 11 12]\n",
      " [13 14 15]]\n"
     ]
    }
   ],
   "source": [
    "def vertical_stack_arrays(arrays):\n",
    "    return np.vstack(arrays)\n",
    "\n",
    "array1 = np.array([[1, 2, 3], [4, 5, 6]])\n",
    "array2 = np.array([[7, 8, 9], [10, 11, 12]])\n",
    "array3 = np.array([[13, 14, 15]])\n",
    "\n",
    "arrays = [array1, array2, array3]\n",
    "stacked_array = vertical_stack_arrays(arrays)\n",
    "\n",
    "print(\"Vertically stacked array:\\n\", stacked_array)"
   ]
  },
  {
   "cell_type": "code",
   "execution_count": null,
   "id": "54be22a4",
   "metadata": {},
   "outputs": [],
   "source": [
    "\"\"\"21. Write a Python function using NumPy to create an array of integers within a specified range (inclusive)\n",
    "with a given step size."
   ]
  },
  {
   "cell_type": "code",
   "execution_count": 32,
   "id": "a315a6b7",
   "metadata": {},
   "outputs": [
    {
     "name": "stdout",
     "output_type": "stream",
     "text": [
      "Range array: [ 1  3  5  7  9 11]\n"
     ]
    }
   ],
   "source": [
    "def create_range_array(start, stop, step):\n",
    "    return np.arange(start, stop + step, step)\n",
    "\n",
    "start = 1\n",
    "stop = 10\n",
    "step = 2\n",
    "range_array = create_range_array(start, stop, step)\n",
    "\n",
    "print(\"Range array:\", range_array)"
   ]
  },
  {
   "cell_type": "code",
   "execution_count": null,
   "id": "45883177",
   "metadata": {},
   "outputs": [],
   "source": [
    "\"\"\"22. Write a Python function using NumPy to generate an array of 10 equally spaced values between 0 and 1\n",
    "(inclusive)."
   ]
  },
  {
   "cell_type": "code",
   "execution_count": 33,
   "id": "1405063f",
   "metadata": {},
   "outputs": [
    {
     "name": "stdout",
     "output_type": "stream",
     "text": [
      "Array of equally spaced values: [0.         0.11111111 0.22222222 0.33333333 0.44444444 0.55555556\n",
      " 0.66666667 0.77777778 0.88888889 1.        ]\n"
     ]
    }
   ],
   "source": [
    "def generate_equally_spaced_values(num_values):\n",
    "    return np.linspace(0, 1, num=num_values)\n",
    "\n",
    "num_values = 10\n",
    "values_array = generate_equally_spaced_values(num_values)\n",
    "\n",
    "print(\"Array of equally spaced values:\", values_array)"
   ]
  },
  {
   "cell_type": "code",
   "execution_count": null,
   "id": "fb325742",
   "metadata": {},
   "outputs": [],
   "source": [
    "\"\"\"23. Write a Python function using NumPy to create an array of 5 logarithmically spaced values between 1 and\n",
    "1000 (inclusive)."
   ]
  },
  {
   "cell_type": "code",
   "execution_count": 34,
   "id": "db03fd46",
   "metadata": {},
   "outputs": [
    {
     "name": "stdout",
     "output_type": "stream",
     "text": [
      "Array of logarithmically spaced values: [   1.            5.62341325   31.6227766   177.827941   1000.        ]\n"
     ]
    }
   ],
   "source": [
    "import numpy as np\n",
    "\n",
    "def generate_logarithmically_spaced_values(num_values):\n",
    "    return np.logspace(np.log10(1), np.log10(1000), num=num_values)\n",
    "\n",
    "num_values = 5\n",
    "log_values_array = generate_logarithmically_spaced_values(num_values)\n",
    "\n",
    "print(\"Array of logarithmically spaced values:\", log_values_array)"
   ]
  },
  {
   "cell_type": "code",
   "execution_count": null,
   "id": "6368f875",
   "metadata": {},
   "outputs": [],
   "source": [
    "\"\"\"24. Create a Pandas DataFrame using a NumPy array that contains 5 rows and 3 columns, where the values\n",
    "are random integers between 1 and 100."
   ]
  },
  {
   "cell_type": "code",
   "execution_count": 35,
   "id": "cc8825df",
   "metadata": {},
   "outputs": [
    {
     "name": "stdout",
     "output_type": "stream",
     "text": [
      "DataFrame:\n",
      "    Column1  Column2  Column3\n",
      "0       86       99       28\n",
      "1       13       30       25\n",
      "2       18       58       80\n",
      "3       33       18       58\n",
      "4       27       52       41\n"
     ]
    }
   ],
   "source": [
    "import pandas as pd\n",
    "\n",
    "data = np.random.randint(1, 101, size=(5, 3))\n",
    "\n",
    "df = pd.DataFrame(data, columns=['Column1', 'Column2', 'Column3'])\n",
    "\n",
    "print(\"DataFrame:\\n\", df)"
   ]
  },
  {
   "cell_type": "code",
   "execution_count": null,
   "id": "69bddbca",
   "metadata": {},
   "outputs": [],
   "source": [
    "\"\"\"25. Write a function that takes a Pandas DataFrame and replaces all negative values in a specific column\n",
    "with zeros. Use NumPy operations within the Pandas DataFrame."
   ]
  },
  {
   "cell_type": "code",
   "execution_count": 36,
   "id": "5a6f3fc9",
   "metadata": {},
   "outputs": [
    {
     "name": "stdout",
     "output_type": "stream",
     "text": [
      "Updated DataFrame:\n",
      "     A  B\n",
      "0  10 -7\n",
      "1   0  2\n",
      "2   3 -8\n",
      "3   0  5\n",
      "4   4  6\n"
     ]
    }
   ],
   "source": [
    "def replace_negatives_with_zeros(df, column_name):\n",
    "    df[column_name] = np.where(df[column_name] < 0, 0, df[column_name])\n",
    "    return df\n",
    "\n",
    "data = {'A': [10, -5, 3, -1, 4], 'B': [-7, 2, -8, 5, 6]}\n",
    "df = pd.DataFrame(data)\n",
    "\n",
    "df_updated = replace_negatives_with_zeros(df, 'A')\n",
    "\n",
    "print(\"Updated DataFrame:\\n\", df_updated)"
   ]
  },
  {
   "cell_type": "code",
   "execution_count": null,
   "id": "7d2bf52c",
   "metadata": {},
   "outputs": [],
   "source": [
    "\"\"\"26. Access the 3rd element from the given NumPy array\n",
    "arr = np.array([10, 20, 30, 40, 50])"
   ]
  },
  {
   "cell_type": "code",
   "execution_count": 37,
   "id": "1a9d3e89",
   "metadata": {},
   "outputs": [
    {
     "data": {
      "text/plain": [
       "30"
      ]
     },
     "execution_count": 37,
     "metadata": {},
     "output_type": "execute_result"
    }
   ],
   "source": [
    "arr = np.array([10, 20, 30, 40, 50])\n",
    "arr[2]"
   ]
  },
  {
   "cell_type": "code",
   "execution_count": null,
   "id": "5dbef050",
   "metadata": {},
   "outputs": [],
   "source": [
    "\"\"\"27. Retrieve the element at index (1, 2) from the 2D NumPy array.\n",
    "arr_2d = np.array([[1, 2, 3],\n",
    "                   [4, 5, 6],\n",
    "                   [7, 8, 9]])"
   ]
  },
  {
   "cell_type": "code",
   "execution_count": 38,
   "id": "0df7ebe7",
   "metadata": {},
   "outputs": [
    {
     "data": {
      "text/plain": [
       "6"
      ]
     },
     "execution_count": 38,
     "metadata": {},
     "output_type": "execute_result"
    }
   ],
   "source": [
    "arr_2d = np.array([[1, 2, 3],\n",
    "                   [4, 5, 6],\n",
    "                   [7, 8, 9]])\n",
    "arr_2d[1,2]"
   ]
  },
  {
   "cell_type": "code",
   "execution_count": null,
   "id": "6b8ab0bd",
   "metadata": {},
   "outputs": [],
   "source": [
    "\"\"\"28. Using boolean indexing, extract elements greater than 5 from the given NumPy array.\n",
    "arr = np.array([3, 8, 2, 10, 5, 7])"
   ]
  },
  {
   "cell_type": "code",
   "execution_count": 39,
   "id": "5ae59ce0",
   "metadata": {},
   "outputs": [
    {
     "name": "stdout",
     "output_type": "stream",
     "text": [
      "Elements greater than 5: [ 8 10  7]\n"
     ]
    }
   ],
   "source": [
    "arr = np.array([3, 8, 2, 10, 5, 7])\n",
    "\n",
    "mask = arr > 5\n",
    "\n",
    "filtered_elements = arr[mask]\n",
    "\n",
    "print(\"Elements greater than 5:\", filtered_elements)"
   ]
  },
  {
   "cell_type": "code",
   "execution_count": null,
   "id": "69889eab",
   "metadata": {},
   "outputs": [],
   "source": [
    "\"\"\"29. Perform basic slicing to extract elements from index 2 to 5 (inclusive) from the given NumPy array\n",
    "arr = np.array([1, 2, 3, 4, 5, 6, 7, 8, 9])"
   ]
  },
  {
   "cell_type": "code",
   "execution_count": 40,
   "id": "aa38b78c",
   "metadata": {},
   "outputs": [
    {
     "data": {
      "text/plain": [
       "array([3, 4, 5, 6])"
      ]
     },
     "execution_count": 40,
     "metadata": {},
     "output_type": "execute_result"
    }
   ],
   "source": [
    "arr = np.array([1, 2, 3, 4, 5, 6, 7, 8, 9])\n",
    "arr[2:6]"
   ]
  },
  {
   "cell_type": "code",
   "execution_count": null,
   "id": "f698c383",
   "metadata": {},
   "outputs": [],
   "source": [
    "\"\"\"30. Slice the 2D NumPy array to extract the sub-array `[[2, 3], [5, 6]]` from the given array\n",
    "arr_2d = np.array([[1, 2, 3],\n",
    "                   [4, 5, 6],\n",
    "                   [7, 8, 9]])"
   ]
  },
  {
   "cell_type": "code",
   "execution_count": 41,
   "id": "2d95d7e6",
   "metadata": {},
   "outputs": [
    {
     "data": {
      "text/plain": [
       "array([[2, 3],\n",
       "       [5, 6]])"
      ]
     },
     "execution_count": 41,
     "metadata": {},
     "output_type": "execute_result"
    }
   ],
   "source": [
    "arr_2d = np.array([[1, 2, 3],\n",
    "                   [4, 5, 6],\n",
    "                   [7, 8, 9]])\n",
    "arr_2d[0:2, 1:3]"
   ]
  },
  {
   "cell_type": "code",
   "execution_count": null,
   "id": "22e734b3",
   "metadata": {},
   "outputs": [],
   "source": [
    "\"\"\"31.Write a NumPy function to extract elements in specific order from a given 2D array based on indices\n",
    "provided in another array."
   ]
  },
  {
   "cell_type": "code",
   "execution_count": 42,
   "id": "6b8cde1a",
   "metadata": {},
   "outputs": [
    {
     "name": "stdout",
     "output_type": "stream",
     "text": [
      "Extracted elements: [20 60 70]\n"
     ]
    }
   ],
   "source": [
    "def extract_elements_based_on_indices(arr_2d, indices):\n",
    "    return arr_2d[indices[:, 0], indices[:, 1]]\n",
    "\n",
    "arr_2d = np.array([[10, 20, 30],\n",
    "                   [40, 50, 60],\n",
    "                   [70, 80, 90]])\n",
    "\n",
    "indices = np.array([[0, 1],  \n",
    "                    [1, 2], \n",
    "                    [2, 0]]) \n",
    "\n",
    "extracted_elements = extract_elements_based_on_indices(arr_2d, indices)\n",
    "\n",
    "print(\"Extracted elements:\", extracted_elements)"
   ]
  },
  {
   "cell_type": "code",
   "execution_count": null,
   "id": "197078ad",
   "metadata": {},
   "outputs": [],
   "source": [
    "\"\"\"32. Create a NumPy function that filters elements greater than a threshold from a given 1D array using\n",
    "boolean indexing."
   ]
  },
  {
   "cell_type": "code",
   "execution_count": 43,
   "id": "24128c82",
   "metadata": {},
   "outputs": [
    {
     "name": "stdout",
     "output_type": "stream",
     "text": [
      "Filtered elements: [12 18]\n"
     ]
    }
   ],
   "source": [
    "def filter_elements_greater_than_threshold(arr, threshold):\n",
    "    return arr[arr > threshold]\n",
    "\n",
    "arr = np.array([5, 12, 7, 3, 18, 9])\n",
    "threshold = 10\n",
    "\n",
    "filtered_elements = filter_elements_greater_than_threshold(arr, threshold)\n",
    "\n",
    "print(\"Filtered elements:\", filtered_elements)"
   ]
  },
  {
   "cell_type": "code",
   "execution_count": null,
   "id": "8391da5c",
   "metadata": {},
   "outputs": [],
   "source": [
    "\"\"\"33. Develop a NumPy function that extracts specific elements from a 3D array using indices provided in three\n",
    "separate arrays for each dimension."
   ]
  },
  {
   "cell_type": "code",
   "execution_count": 44,
   "id": "267a6e81",
   "metadata": {},
   "outputs": [
    {
     "name": "stdout",
     "output_type": "stream",
     "text": [
      "Extracted elements: [ 3 14 25]\n"
     ]
    }
   ],
   "source": [
    "def extract_elements_from_3d_array(arr_3d, indices_x, indices_y, indices_z):\n",
    "    return arr_3d[indices_x, indices_y, indices_z]\n",
    "\n",
    "arr_3d = np.array([[[1, 2, 3],\n",
    "                    [4, 5, 6],\n",
    "                    [7, 8, 9]],\n",
    "                   \n",
    "                   [[10, 11, 12],\n",
    "                    [13, 14, 15],\n",
    "                    [16, 17, 18]],\n",
    "                   \n",
    "                   [[19, 20, 21],\n",
    "                    [22, 23, 24],\n",
    "                    [25, 26, 27]]])\n",
    "\n",
    "indices_x = np.array([0, 1, 2])\n",
    "indices_y = np.array([0, 1, 2])\n",
    "indices_z = np.array([2, 1, 0])\n",
    "\n",
    "extracted_elements = extract_elements_from_3d_array(arr_3d, indices_x, indices_y, indices_z)\n",
    "\n",
    "print(\"Extracted elements:\", extracted_elements)"
   ]
  },
  {
   "cell_type": "code",
   "execution_count": null,
   "id": "92abf392",
   "metadata": {},
   "outputs": [],
   "source": [
    "\"\"\"34. Write a NumPy function that returns elements from an array where both two conditions are satisfied\n",
    "using boolean indexing."
   ]
  },
  {
   "cell_type": "code",
   "execution_count": 45,
   "id": "d4d9d731",
   "metadata": {},
   "outputs": [
    {
     "name": "stdout",
     "output_type": "stream",
     "text": [
      "Filtered elements : [20 30 40]\n"
     ]
    }
   ],
   "source": [
    "def filter_elements_with_conditions(arr, condition1, condition2):\n",
    "    return arr[condition1 & condition2]\n",
    "\n",
    "arr = np.array([10, 15, 20, 25, 30, 35, 40])\n",
    "\n",
    "condition1 = arr > 15  \n",
    "condition2 = arr % 10 == 0 \n",
    "\n",
    "filtered_elements = filter_elements_with_conditions(arr, condition1, condition2)\n",
    "\n",
    "print(\"Filtered elements :\", filtered_elements)"
   ]
  },
  {
   "cell_type": "code",
   "execution_count": null,
   "id": "7bf1e1e7",
   "metadata": {},
   "outputs": [],
   "source": [
    "\"\"\"35. Create a NumPy function that extracts elements from a 2D array using row and column indices provided\n",
    "in separate arrays."
   ]
  },
  {
   "cell_type": "code",
   "execution_count": 46,
   "id": "c4bfe67f",
   "metadata": {},
   "outputs": [
    {
     "name": "stdout",
     "output_type": "stream",
     "text": [
      "Extracted elements: [20 60 70]\n"
     ]
    }
   ],
   "source": [
    "def extract_elements_from_2d_array(arr_2d, row_indices, col_indices):\n",
    "    return arr_2d[row_indices, col_indices]\n",
    "\n",
    "arr_2d = np.array([[10, 20, 30],\n",
    "                   [40, 50, 60],\n",
    "                   [70, 80, 90]])\n",
    "\n",
    "row_indices = np.array([0, 1, 2])\n",
    "col_indices = np.array([1, 2, 0])\n",
    "\n",
    "\n",
    "extracted_elements = extract_elements_from_2d_array(arr_2d, row_indices, col_indices)\n",
    "\n",
    "print(\"Extracted elements:\", extracted_elements)"
   ]
  },
  {
   "cell_type": "code",
   "execution_count": null,
   "id": "180f45c0",
   "metadata": {},
   "outputs": [],
   "source": [
    "\"\"\"36. Given an array arr of shape (3, 3), add a scalar value of 5 to each element using NumPy broadcasting"
   ]
  },
  {
   "cell_type": "code",
   "execution_count": 47,
   "id": "874be62f",
   "metadata": {},
   "outputs": [
    {
     "name": "stdout",
     "output_type": "stream",
     "text": [
      "Array:\n",
      " [[ 6  7  8]\n",
      " [ 9 10 11]\n",
      " [12 13 14]]\n"
     ]
    }
   ],
   "source": [
    "arr = np.array([[1, 2, 3],\n",
    "                [4, 5, 6],\n",
    "                [7, 8, 9]])\n",
    "\n",
    "result = arr + 5\n",
    "\n",
    "print(\"Array:\\n\", result)"
   ]
  },
  {
   "cell_type": "code",
   "execution_count": null,
   "id": "7a815e4e",
   "metadata": {},
   "outputs": [],
   "source": [
    "\"\"\"37. Consider two arrays arr1 of shape (1, 3) and arr2 of shape (3, 4). Multiply each row of arr2 by the\n",
    "corresponding element in arr1 using NumPy broadcasting."
   ]
  },
  {
   "cell_type": "code",
   "execution_count": 49,
   "id": "655e89b6",
   "metadata": {},
   "outputs": [
    {
     "name": "stdout",
     "output_type": "stream",
     "text": [
      "Result of multiplying each row of arr2 by arr1:\n",
      " [[ 2  4  6  8]\n",
      " [15 18 21 24]\n",
      " [36 40 44 48]]\n"
     ]
    }
   ],
   "source": [
    "arr1 = np.array([[2, 3, 4]]) \n",
    "arr2 = np.array([[1, 2, 3, 4],\n",
    "                 [5, 6, 7, 8],\n",
    "                 [9, 10, 11, 12]])  \n",
    "\n",
    "arr1_reshaped = arr1.T  \n",
    "\n",
    "result = arr2 * arr1_reshaped\n",
    "\n",
    "print(\"Result of multiplying each row of arr2 by arr1:\\n\", result)"
   ]
  },
  {
   "cell_type": "code",
   "execution_count": null,
   "id": "7c06ab3c",
   "metadata": {},
   "outputs": [],
   "source": [
    "\"\"\"38. Given a 1D array arr1 of shape (1, 4) and a 2D array arr2 of shape (4, 3), add arr1 to each row of arr2 using\n",
    "NumPy broadcasting."
   ]
  },
  {
   "cell_type": "code",
   "execution_count": 50,
   "id": "5892c931",
   "metadata": {},
   "outputs": [
    {
     "name": "stdout",
     "output_type": "stream",
     "text": [
      "Result:\n",
      " [[ 11  22  33]\n",
      " [ 41  52  63]\n",
      " [ 71  82  93]\n",
      " [101 112 123]]\n"
     ]
    }
   ],
   "source": [
    "arr1 = np.array([[1, 2, 3, 4]])  \n",
    "arr2 = np.array([[10, 20, 30],\n",
    "                 [40, 50, 60],\n",
    "                 [70, 80, 90],\n",
    "                 [100, 110, 120]])  \n",
    "\n",
    "arr1_reshaped = np.broadcast_to(arr1[:, :3], arr2.shape)  \n",
    "\n",
    "result = arr2 + arr1_reshaped\n",
    "\n",
    "print(\"Result:\\n\", result)"
   ]
  },
  {
   "cell_type": "code",
   "execution_count": null,
   "id": "f3158655",
   "metadata": {},
   "outputs": [],
   "source": [
    "\"\"\"39. Consider two arrays arr1 of shape (3, 1) and arr2 of shape (1, 3). Add these arrays using NumPy\n",
    "broadcasting."
   ]
  },
  {
   "cell_type": "code",
   "execution_count": 51,
   "id": "f570a691",
   "metadata": {},
   "outputs": [
    {
     "name": "stdout",
     "output_type": "stream",
     "text": [
      "Result :\n",
      " [[11 21 31]\n",
      " [12 22 32]\n",
      " [13 23 33]]\n"
     ]
    }
   ],
   "source": [
    "arr1 = np.array([[1],\n",
    "                 [2],\n",
    "                 [3]]) \n",
    "\n",
    "arr2 = np.array([[10, 20, 30]])  \n",
    "\n",
    "result = arr1 + arr2\n",
    "\n",
    "print(\"Result :\\n\", result)"
   ]
  },
  {
   "cell_type": "code",
   "execution_count": null,
   "id": "218468bf",
   "metadata": {},
   "outputs": [],
   "source": [
    "\"\"\"40. Given arrays arr1 of shape (2, 3) and arr2 of shape (2, 2), perform multiplication using NumPy\n",
    "broadcasting. Handle the shape incompatibility."
   ]
  },
  {
   "cell_type": "code",
   "execution_count": 53,
   "id": "36e0461e",
   "metadata": {},
   "outputs": [
    {
     "name": "stdout",
     "output_type": "stream",
     "text": [
      "Result :\n",
      " [[ 7 16]\n",
      " [36 50]]\n"
     ]
    }
   ],
   "source": [
    "arr1 = np.array([[1, 2, 3],\n",
    "                 [4, 5, 6]]) \n",
    "\n",
    "arr2 = np.array([[7, 8],\n",
    "                 [9, 10]])  \n",
    "\n",
    "arr1_trimmed = arr1[:, :2] \n",
    "\n",
    "result = arr1_trimmed * arr2\n",
    "\n",
    "print(\"Result :\\n\", result)"
   ]
  },
  {
   "cell_type": "code",
   "execution_count": null,
   "id": "82a638aa",
   "metadata": {},
   "outputs": [],
   "source": [
    "\"\"\"41. Calculate column wise mean for the given array:\n",
    "arr = np.array([[1, 2, 3], [4, 5, 6]])"
   ]
  },
  {
   "cell_type": "code",
   "execution_count": 58,
   "id": "9779d0d7",
   "metadata": {},
   "outputs": [
    {
     "data": {
      "text/plain": [
       "array([2.5, 3.5, 4.5])"
      ]
     },
     "execution_count": 58,
     "metadata": {},
     "output_type": "execute_result"
    }
   ],
   "source": [
    "arr = np.array([[1, 2, 3], [4, 5, 6]])\n",
    "arr1=np.mean(arr,axis=0)\n",
    "arr1"
   ]
  },
  {
   "cell_type": "code",
   "execution_count": null,
   "id": "ce55cbcc",
   "metadata": {},
   "outputs": [],
   "source": [
    "\"\"\"42. Find maximum value in each row of the given array:\n",
    "arr = np.array([[1, 2, 3], [4, 5, 6]])"
   ]
  },
  {
   "cell_type": "code",
   "execution_count": 61,
   "id": "b296b3fb",
   "metadata": {},
   "outputs": [
    {
     "data": {
      "text/plain": [
       "array([3, 6])"
      ]
     },
     "execution_count": 61,
     "metadata": {},
     "output_type": "execute_result"
    }
   ],
   "source": [
    "arr = np.array([[1, 2, 3], [4, 5, 6]])\n",
    "np.max(arr,axis=1)"
   ]
  },
  {
   "cell_type": "code",
   "execution_count": null,
   "id": "b0ec7752",
   "metadata": {},
   "outputs": [],
   "source": [
    "\"\"\"43. For the given array, find indices of maximum value in each column\n",
    "arr = np.array([[1, 2, 3], [4, 5, 6]])"
   ]
  },
  {
   "cell_type": "code",
   "execution_count": 62,
   "id": "d5e5bd6e",
   "metadata": {},
   "outputs": [
    {
     "data": {
      "text/plain": [
       "array([1, 1, 1], dtype=int64)"
      ]
     },
     "execution_count": 62,
     "metadata": {},
     "output_type": "execute_result"
    }
   ],
   "source": [
    "arr = np.array([[1, 2, 3], [4, 5, 6]])\n",
    "np.argmax(arr, axis=0)"
   ]
  },
  {
   "cell_type": "code",
   "execution_count": null,
   "id": "79131bf9",
   "metadata": {},
   "outputs": [],
   "source": [
    "\"\"\"44. For the given array, apply custom function to calculate moving sum along rows.\n",
    "arr = np.array([[1, 2, 3], [4, 5, 6]])"
   ]
  },
  {
   "cell_type": "code",
   "execution_count": 63,
   "id": "5e23a0a0",
   "metadata": {},
   "outputs": [
    {
     "name": "stdout",
     "output_type": "stream",
     "text": [
      "Moving sum along rows:\n",
      " [[ 3  5]\n",
      " [ 9 11]]\n"
     ]
    }
   ],
   "source": [
    "arr = np.array([[1, 2, 3],\n",
    "                [4, 5, 6]])\n",
    "\n",
    "\n",
    "window_size = 2\n",
    "\n",
    "moving_sums = np.array([np.convolve(row, np.ones(window_size, dtype=int), mode='valid') for row in arr])\n",
    "\n",
    "print(\"Moving sum along rows:\\n\", moving_sums)"
   ]
  },
  {
   "cell_type": "code",
   "execution_count": null,
   "id": "6d91d0df",
   "metadata": {},
   "outputs": [],
   "source": [
    "\"\"\"45. In the given array, check if all elements in each column are even.\n",
    "arr = np.array([[2, 4, 6], [3, 5, 7]])"
   ]
  },
  {
   "cell_type": "code",
   "execution_count": 64,
   "id": "6de13a01",
   "metadata": {},
   "outputs": [
    {
     "name": "stdout",
     "output_type": "stream",
     "text": [
      "Are all elements in each column even [False False False]\n"
     ]
    }
   ],
   "source": [
    "arr = np.array([[2, 4, 6],\n",
    "                [3, 5, 7]])\n",
    "\n",
    "are_all_even = np.all(arr % 2 == 0, axis=0)\n",
    "\n",
    "print(\"Are all elements in each column even\", are_all_even)"
   ]
  },
  {
   "cell_type": "code",
   "execution_count": null,
   "id": "2e2278f8",
   "metadata": {},
   "outputs": [],
   "source": [
    "\"\"\"46. Given a NumPy array arr, reshape it into a matrix of dimensions `m` rows and `n` columns. Return the\n",
    "reshaped matrix.\n",
    "original_array = np.array([1, 2, 3, 4, 5, 6])"
   ]
  },
  {
   "cell_type": "code",
   "execution_count": 2,
   "id": "e54865f4",
   "metadata": {},
   "outputs": [
    {
     "name": "stdout",
     "output_type": "stream",
     "text": [
      "[[1 2 3]\n",
      " [4 5 6]]\n"
     ]
    }
   ],
   "source": [
    "import numpy as np\n",
    "original_array = np.array([1, 2, 3, 4, 5, 6])\n",
    "\n",
    "m, n = 2, 3  \n",
    "\n",
    "reshaped_matrix = original_array.reshape(m, n)\n",
    "\n",
    "print(reshaped_matrix)"
   ]
  },
  {
   "cell_type": "code",
   "execution_count": null,
   "id": "39e6faff",
   "metadata": {},
   "outputs": [],
   "source": [
    "\"\"\"47. Create a function that takes a matrix as input and returns the flattened array.\n",
    "input_matrix = np.array([[1, 2, 3], [4, 5, 6]])"
   ]
  },
  {
   "cell_type": "code",
   "execution_count": 3,
   "id": "51d9cfa7",
   "metadata": {},
   "outputs": [
    {
     "name": "stdout",
     "output_type": "stream",
     "text": [
      "[1 2 3 4 5 6]\n"
     ]
    }
   ],
   "source": [
    "def flatten_matrix(matrix):\n",
    "    return matrix.flatten()\n",
    "\n",
    "input_matrix = np.array([[1, 2, 3], [4, 5, 6]])\n",
    "\n",
    "flattened_array = flatten_matrix(input_matrix)\n",
    "\n",
    "print(flattened_array)"
   ]
  },
  {
   "cell_type": "code",
   "execution_count": null,
   "id": "28619a22",
   "metadata": {},
   "outputs": [],
   "source": [
    "\"\"\"48. Write a function that concatenates two given arrays along a specified axis.\n",
    "array1 = np.array([[1, 2], [3, 4]])\n",
    "array2 = np.array([[5, 6], [7, 8]])"
   ]
  },
  {
   "cell_type": "code",
   "execution_count": 4,
   "id": "cf159b5b",
   "metadata": {},
   "outputs": [
    {
     "name": "stdout",
     "output_type": "stream",
     "text": [
      "Concatenated along axis 0:\n",
      " [[1 2]\n",
      " [3 4]\n",
      " [5 6]\n",
      " [7 8]]\n"
     ]
    }
   ],
   "source": [
    "def concatenate_arrays(array1, array2, axis):\n",
    "    return np.concatenate((array1, array2), axis=axis)\n",
    "\n",
    "array1 = np.array([[1, 2], [3, 4]])\n",
    "array2 = np.array([[5, 6], [7, 8]])\n",
    "\n",
    "concatenated_array_axis0 = concatenate_arrays(array1, array2, axis=0)\n",
    "print(\"Concatenated along axis 0:\\n\", concatenated_array_axis0)"
   ]
  },
  {
   "cell_type": "code",
   "execution_count": null,
   "id": "daf5f61d",
   "metadata": {},
   "outputs": [],
   "source": [
    "\"\"\"49. Create a function that splits an array into multiple sub-arrays along a specified axis\n",
    "original_array = np.array([[1, 2, 3], [4, 5, 6], [7, 8, 9]])"
   ]
  },
  {
   "cell_type": "code",
   "execution_count": 5,
   "id": "d3393472",
   "metadata": {},
   "outputs": [
    {
     "name": "stdout",
     "output_type": "stream",
     "text": [
      "Split along axis 0:\n",
      " [array([[1, 2, 3]]), array([[4, 5, 6]]), array([[7, 8, 9]])]\n"
     ]
    }
   ],
   "source": [
    "def split_array(array, num_splits, axis):\n",
    "    return np.array_split(array, num_splits, axis=axis)\n",
    "\n",
    "original_array = np.array([[1, 2, 3], [4, 5, 6], [7, 8, 9]])\n",
    "\n",
    "split_axis0 = split_array(original_array, num_splits=3, axis=0)\n",
    "print(\"Split along axis 0:\\n\", split_axis0)"
   ]
  },
  {
   "cell_type": "code",
   "execution_count": null,
   "id": "69fde898",
   "metadata": {},
   "outputs": [],
   "source": [
    "\"\"\"50. Write a function that inserts and then deletes elements from a given array at specified indices\n",
    "original_array = np.array([1, 2, 3, 4, 5])\n",
    "indices_to_insert = [2, 4]\n",
    "values_to_insert = [10, 11]\n",
    "indices_to_delete = [1, 3]"
   ]
  },
  {
   "cell_type": "code",
   "execution_count": 6,
   "id": "b517881a",
   "metadata": {},
   "outputs": [
    {
     "name": "stdout",
     "output_type": "stream",
     "text": [
      "Modified array: [ 1 10 11  4  5]\n"
     ]
    }
   ],
   "source": [
    "def insert_and_delete(array, insert_indices, insert_values, delete_indices):\n",
    "    insert_indices = sorted(insert_indices)\n",
    "    \n",
    "\n",
    "    for idx, value in zip(insert_indices, insert_values):\n",
    "        array = np.insert(array, idx, value)\n",
    "    \n",
    "    \n",
    "    for idx in sorted(delete_indices, reverse=True):\n",
    "        array = np.delete(array, idx)\n",
    "    \n",
    "    return array\n",
    "\n",
    "original_array = np.array([1, 2, 3, 4, 5])\n",
    "indices_to_insert = [2, 4]\n",
    "values_to_insert = [10, 11]\n",
    "indices_to_delete = [1, 3]\n",
    "\n",
    "\n",
    "modified_array = insert_and_delete(original_array, indices_to_insert, values_to_insert, indices_to_delete)\n",
    "\n",
    "print(\"Modified array:\", modified_array)"
   ]
  },
  {
   "cell_type": "code",
   "execution_count": null,
   "id": "63cde81e",
   "metadata": {},
   "outputs": [],
   "source": [
    "\"\"\"51. Create a NumPy array `arr1` with random integers and another array `arr2` with integers from 1 to 10.\n",
    "Perform element-wise addition between `arr1` and `arr2`."
   ]
  },
  {
   "cell_type": "code",
   "execution_count": 7,
   "id": "f28efd98",
   "metadata": {},
   "outputs": [
    {
     "name": "stdout",
     "output_type": "stream",
     "text": [
      "arr1:\n",
      " [[5 2 2 8]\n",
      " [5 5 9 8]\n",
      " [4 6 3 7]]\n",
      "arr2:\n",
      " [[ 1  2  3  4  5]\n",
      " [ 6  7  8  9 10]]\n",
      "arr2 resized:\n",
      " [[ 1  2  3  4]\n",
      " [ 5  6  7  8]\n",
      " [ 9 10  1  2]]\n",
      "Result of element-wise addition:\n",
      " [[ 6  4  5 12]\n",
      " [10 11 16 16]\n",
      " [13 16  4  9]]\n"
     ]
    }
   ],
   "source": [
    "arr1 = np.random.randint(0, 10, size=(3, 4))  \n",
    "print(\"arr1:\\n\", arr1)\n",
    "\n",
    "arr2 = np.arange(1, 11).reshape(2, 5) \n",
    "print(\"arr2:\\n\", arr2)\n",
    "\n",
    "arr2_resized = np.resize(arr2, arr1.shape)  \n",
    "print(\"arr2 resized:\\n\", arr2_resized)\n",
    "\n",
    "\n",
    "result = arr1 + arr2_resized\n",
    "print(\"Result of element-wise addition:\\n\", result)"
   ]
  },
  {
   "cell_type": "code",
   "execution_count": null,
   "id": "924e14ae",
   "metadata": {},
   "outputs": [],
   "source": [
    "\"\"\"52. Generate a NumPy array `arr1` with sequential integers from 10 to 1 and another array `arr2` with integers\n",
    "from 1 to 10. Subtract `arr2` from `arr1` element-wise."
   ]
  },
  {
   "cell_type": "code",
   "execution_count": 8,
   "id": "40081843",
   "metadata": {},
   "outputs": [
    {
     "name": "stdout",
     "output_type": "stream",
     "text": [
      "arr1:\n",
      " [10  9  8  7  6  5  4  3  2  1]\n",
      "arr2:\n",
      " [ 1  2  3  4  5  6  7  8  9 10]\n",
      "Result of element-wise subtraction:\n",
      " [ 9  7  5  3  1 -1 -3 -5 -7 -9]\n"
     ]
    }
   ],
   "source": [
    "arr1 = np.arange(10, 0, -1) \n",
    "print(\"arr1:\\n\", arr1)\n",
    "\n",
    "arr2 = np.arange(1, 11)  \n",
    "print(\"arr2:\\n\", arr2)\n",
    "\n",
    "result = arr1 - arr2\n",
    "print(\"Result of element-wise subtraction:\\n\", result)"
   ]
  },
  {
   "cell_type": "code",
   "execution_count": null,
   "id": "69cef6b6",
   "metadata": {},
   "outputs": [],
   "source": [
    "\"\"\"53. Create a NumPy array `arr1` with random integers and another array `arr2` with integers from 1 to 5.\n",
    "Perform element-wise multiplication between `arr1` and `arr2`."
   ]
  },
  {
   "cell_type": "code",
   "execution_count": 9,
   "id": "dad7f40a",
   "metadata": {},
   "outputs": [
    {
     "name": "stdout",
     "output_type": "stream",
     "text": [
      "arr1:\n",
      " [[2 5 6 7]\n",
      " [1 9 1 1]\n",
      " [7 7 6 6]]\n",
      "arr2:\n",
      " [1 2 3 4]\n",
      "arr2 resized:\n",
      " [[1 2 3 4]\n",
      " [1 2 3 4]\n",
      " [1 2 3 4]]\n",
      "Result of element-wise multiplication:\n",
      " [[ 2 10 18 28]\n",
      " [ 1 18  3  4]\n",
      " [ 7 14 18 24]]\n"
     ]
    }
   ],
   "source": [
    "arr1 = np.random.randint(1, 10, size=(3, 4)) \n",
    "print(\"arr1:\\n\", arr1)\n",
    "\n",
    "arr2 = np.array([1, 2, 3, 4]) \n",
    "print(\"arr2:\\n\", arr2)\n",
    "\n",
    "arr2_resized = np.tile(arr2, (arr1.shape[0], 1))  \n",
    "print(\"arr2 resized:\\n\", arr2_resized)\n",
    "\n",
    "result = arr1 * arr2_resized\n",
    "print(\"Result of element-wise multiplication:\\n\", result)"
   ]
  },
  {
   "cell_type": "code",
   "execution_count": null,
   "id": "6b147a13",
   "metadata": {},
   "outputs": [],
   "source": [
    "\"\"\"54. Generate a NumPy array `arr1` with even integers from 2 to 10 and another array `arr2` with integers from 1\n",
    "to 5. Perform element-wise division of `arr1` by `arr2`."
   ]
  },
  {
   "cell_type": "code",
   "execution_count": 10,
   "id": "cc46747e",
   "metadata": {},
   "outputs": [
    {
     "name": "stdout",
     "output_type": "stream",
     "text": [
      "arr1:\n",
      " [ 2  4  6  8 10]\n",
      "arr2:\n",
      " [1 2 3 4 5]\n",
      "Result of element-wise division:\n",
      " [2. 2. 2. 2. 2.]\n"
     ]
    }
   ],
   "source": [
    "arr1 = np.arange(2, 11, 2)\n",
    "print(\"arr1:\\n\", arr1)\n",
    "\n",
    "arr2 = np.array([1, 2, 3, 4, 5]) \n",
    "print(\"arr2:\\n\", arr2)\n",
    "\n",
    "result = arr1 / arr2\n",
    "print(\"Result of element-wise division:\\n\", result)"
   ]
  },
  {
   "cell_type": "code",
   "execution_count": null,
   "id": "840bd7d3",
   "metadata": {},
   "outputs": [],
   "source": [
    "\"\"\"55. Create a NumPy array `arr1` with integers from 1 to 5 and another array `arr2` with the same numbers\n",
    "reversed. Calculate the exponentiation of `arr1` raised to the power of `arr2` element-wise."
   ]
  },
  {
   "cell_type": "code",
   "execution_count": 11,
   "id": "3ee6e77d",
   "metadata": {},
   "outputs": [
    {
     "name": "stdout",
     "output_type": "stream",
     "text": [
      "arr1:\n",
      " [1 2 3 4 5]\n",
      "arr2:\n",
      " [5 4 3 2 1]\n",
      "Result of element-wise exponentiation:\n",
      " [ 1 16 27 16  5]\n"
     ]
    }
   ],
   "source": [
    "arr1 = np.array([1, 2, 3, 4, 5])\n",
    "print(\"arr1:\\n\", arr1)\n",
    "\n",
    "arr2 = arr1[::-1] \n",
    "print(\"arr2:\\n\", arr2)\n",
    "\n",
    "result = np.power(arr1, arr2)\n",
    "print(\"Result of element-wise exponentiation:\\n\", result)"
   ]
  },
  {
   "cell_type": "code",
   "execution_count": null,
   "id": "fd14d517",
   "metadata": {},
   "outputs": [],
   "source": [
    "\"\"\"56. Write a function that counts the occurrences of a specific substring within a NumPy array of strings.\n",
    "arr = np.array(['hello', 'world', 'hello', 'numpy', 'hello'])"
   ]
  },
  {
   "cell_type": "code",
   "execution_count": 12,
   "id": "92e2ab50",
   "metadata": {},
   "outputs": [
    {
     "name": "stdout",
     "output_type": "stream",
     "text": [
      "Occurrences of 'hello': 3\n"
     ]
    }
   ],
   "source": [
    "def count_substring_occurrences(array, substring):\n",
    "    return np.sum(np.char.find(array, substring) != -1)\n",
    "\n",
    "arr = np.array(['hello', 'world', 'hello', 'numpy', 'hello'])\n",
    "\n",
    "substring = 'hello'\n",
    "\n",
    "count = count_substring_occurrences(arr, substring)\n",
    "print(f\"Occurrences of '{substring}':\", count)"
   ]
  },
  {
   "cell_type": "code",
   "execution_count": null,
   "id": "c948dc6d",
   "metadata": {},
   "outputs": [],
   "source": [
    "\"\"\"57. Write a function that extracts uppercase characters from a NumPy array of strings.\n",
    "arr = np.array(['Hello', 'World', 'OpenAI', 'GPT'])"
   ]
  },
  {
   "cell_type": "code",
   "execution_count": 13,
   "id": "a4a67202",
   "metadata": {},
   "outputs": [
    {
     "name": "stdout",
     "output_type": "stream",
     "text": [
      "Uppercase characters: ['H', 'W', 'O', 'A', 'I', 'G', 'P', 'T']\n"
     ]
    }
   ],
   "source": [
    "def extract_uppercase(array):\n",
    "    flattened_array = array.flatten()\n",
    "    \n",
    "    uppercase_chars = [char for string in flattened_array for char in string if char.isupper()]\n",
    "    \n",
    "    return uppercase_chars\n",
    "\n",
    "arr = np.array(['Hello', 'World', 'OpenAI', 'GPT'])\n",
    "\n",
    "result = extract_uppercase(arr)\n",
    "print(\"Uppercase characters:\", result)"
   ]
  },
  {
   "cell_type": "code",
   "execution_count": null,
   "id": "aad389e7",
   "metadata": {},
   "outputs": [],
   "source": [
    "\"\"\"58. Write a function that replaces occurrences of a substring in a NumPy array of strings with a new string.\n",
    "arr = np.array(['apple', 'banana', 'grape', 'pineapple'])"
   ]
  },
  {
   "cell_type": "code",
   "execution_count": 14,
   "id": "c45fbdce",
   "metadata": {},
   "outputs": [
    {
     "name": "stdout",
     "output_type": "stream",
     "text": [
      "Array after replacement:\n",
      " ['orange' 'banana' 'grape' 'pineorange']\n"
     ]
    }
   ],
   "source": [
    "def replace_substring(array, old_substring, new_string):\n",
    "    replaced_array = np.char.replace(array, old_substring, new_string)\n",
    "    \n",
    "    return replaced_array\n",
    "\n",
    "arr = np.array(['apple', 'banana', 'grape', 'pineapple'])\n",
    "\n",
    "old_substring = 'apple'\n",
    "new_string = 'orange'\n",
    "\n",
    "result = replace_substring(arr, old_substring, new_string)\n",
    "print(\"Array after replacement:\\n\", result)"
   ]
  },
  {
   "cell_type": "code",
   "execution_count": null,
   "id": "3762602a",
   "metadata": {},
   "outputs": [],
   "source": [
    "\"\"\"59. Write a function that concatenates strings in a NumPy array element-wise.\n",
    "arr1 = np.array(['Hello', 'World'])\n",
    "arr2 = np.array(['Open', 'AI'])"
   ]
  },
  {
   "cell_type": "code",
   "execution_count": 15,
   "id": "6b3fa791",
   "metadata": {},
   "outputs": [
    {
     "name": "stdout",
     "output_type": "stream",
     "text": [
      "Concatenated array:\n",
      " ['HelloOpen' 'WorldAI']\n"
     ]
    }
   ],
   "source": [
    "def concatenate_strings(arr1, arr2):\n",
    "    if arr1.shape != arr2.shape:\n",
    "        raise ValueError(\"Both arrays must have the same shape for element-wise concatenation.\")\n",
    "    \n",
    "    concatenated_array = np.char.add(arr1, arr2)\n",
    "    \n",
    "    return concatenated_array\n",
    "\n",
    "arr1 = np.array(['Hello', 'World'])\n",
    "arr2 = np.array(['Open', 'AI'])\n",
    "\n",
    "result = concatenate_strings(arr1, arr2)\n",
    "print(\"Concatenated array:\\n\", result)"
   ]
  },
  {
   "cell_type": "code",
   "execution_count": null,
   "id": "16ee611a",
   "metadata": {},
   "outputs": [],
   "source": [
    "\"\"\"60. Write a function that finds the length of the longest string in a NumPy array.\n",
    "arr = np.array(['apple', 'banana', 'grape', 'pineapple'])"
   ]
  },
  {
   "cell_type": "code",
   "execution_count": 16,
   "id": "fce5ff1e",
   "metadata": {},
   "outputs": [
    {
     "name": "stdout",
     "output_type": "stream",
     "text": [
      "Length of the longest string: 9\n"
     ]
    }
   ],
   "source": [
    "def longest_string_length(array):\n",
    "    lengths = np.char.str_len(array)\n",
    "    \n",
    "    max_length = np.max(lengths)\n",
    "    \n",
    "    return max_length\n",
    "\n",
    "arr = np.array(['apple', 'banana', 'grape', 'pineapple'])\n",
    "\n",
    "result = longest_string_length(arr)\n",
    "print(\"Length of the longest string:\", result)"
   ]
  },
  {
   "cell_type": "code",
   "execution_count": null,
   "id": "218d32fb",
   "metadata": {},
   "outputs": [],
   "source": [
    "\"\"\"61. Create a dataset of 100 random integers between 1 and 1000. Compute the mean, median, variance, and\n",
    "standard deviation of the dataset using NumPy's functions."
   ]
  },
  {
   "cell_type": "code",
   "execution_count": 17,
   "id": "c6f6cd62",
   "metadata": {},
   "outputs": [
    {
     "name": "stdout",
     "output_type": "stream",
     "text": [
      "Dataset:\n",
      " [642 181 417 445 717  95 880 268 803 202 921 944 683  93  26  92 148 632\n",
      "  38 230 323 936 464  85 582 640 894 852 494 228 278 182  36 153 295 859\n",
      " 408 867 542 102 505 793 312 185 645 843 559 946 959 637 477 549 729 469\n",
      " 568 918 554 306 319 774 631 876 820 368 335 966 262 968 316 398 981  34\n",
      " 453 334 288 140 532 702 215 966 498 158 354 847 182 138 922  13 277 630\n",
      " 520 101 808  43 298 165 193 806 361 338]\n",
      "Mean: 479.61\n",
      "Median: 458.5\n",
      "Variance: 86405.8579\n",
      "Standard Deviation: 293.9487334553425\n"
     ]
    }
   ],
   "source": [
    "dataset = np.random.randint(1, 1001, size=100)\n",
    "print(\"Dataset:\\n\", dataset)\n",
    "\n",
    "mean_value = np.mean(dataset)\n",
    "print(\"Mean:\", mean_value)\n",
    "\n",
    "median_value = np.median(dataset)\n",
    "print(\"Median:\", median_value)\n",
    "\n",
    "variance_value = np.var(dataset, ddof=0)  \n",
    "print(\"Variance:\", variance_value)\n",
    "\n",
    "std_dev_value = np.std(dataset, ddof=0)  \n",
    "print(\"Standard Deviation:\", std_dev_value)"
   ]
  },
  {
   "cell_type": "code",
   "execution_count": null,
   "id": "c251db6c",
   "metadata": {},
   "outputs": [],
   "source": [
    "\"\"\"62. Generate an array of 50 random numbers between 1 and 100. Find the 25th and 75th percentiles of the\n",
    "dataset."
   ]
  },
  {
   "cell_type": "code",
   "execution_count": 18,
   "id": "761f2fca",
   "metadata": {},
   "outputs": [
    {
     "name": "stdout",
     "output_type": "stream",
     "text": [
      "Dataset:\n",
      " [ 59  49  22  60  95  17  23  97  28  51  79  33  73  88  46  28  67 100\n",
      "  95  31  19  36  21  59  99  66  80  44  29  28  43  73  35  63  55  32\n",
      "  90  74  67  50  68  10  61  30  31   5  78  44  70  88]\n",
      "25th Percentile: 31.0\n",
      "75th Percentile: 73.0\n"
     ]
    }
   ],
   "source": [
    "dataset = np.random.randint(1, 101, size=50)\n",
    "print(\"Dataset:\\n\", dataset)\n",
    "\n",
    "percentile_25 = np.percentile(dataset, 25)\n",
    "percentile_75 = np.percentile(dataset, 75)\n",
    "\n",
    "print(\"25th Percentile:\", percentile_25)\n",
    "print(\"75th Percentile:\", percentile_75)"
   ]
  },
  {
   "cell_type": "code",
   "execution_count": null,
   "id": "ca363b58",
   "metadata": {},
   "outputs": [],
   "source": [
    "\"\"\"63. Create two arrays representing two sets of variables. Compute the correlation coefficient between these\n",
    "arrays using NumPy's `corrcoef` function."
   ]
  },
  {
   "cell_type": "code",
   "execution_count": 19,
   "id": "c6acd16e",
   "metadata": {},
   "outputs": [
    {
     "name": "stdout",
     "output_type": "stream",
     "text": [
      "Correlation Matrix:\n",
      " [[1. 1.]\n",
      " [1. 1.]]\n",
      "Correlation Coefficient between array1 and array2: 1.0\n"
     ]
    }
   ],
   "source": [
    "array1 = np.array([10, 20, 30, 40, 50])\n",
    "array2 = np.array([5, 15, 25, 35, 45])\n",
    "\n",
    "correlation_matrix = np.corrcoef(array1, array2)\n",
    "\n",
    "correlation_coefficient = correlation_matrix[0, 1]\n",
    "\n",
    "print(\"Correlation Matrix:\\n\", correlation_matrix)\n",
    "print(\"Correlation Coefficient between array1 and array2:\", correlation_coefficient)"
   ]
  },
  {
   "cell_type": "code",
   "execution_count": null,
   "id": "b0c4d4db",
   "metadata": {},
   "outputs": [],
   "source": [
    "\"\"\"64. Create two matrices and perform matrix multiplication using NumPy's `dot` function."
   ]
  },
  {
   "cell_type": "code",
   "execution_count": 20,
   "id": "0b8a96ba",
   "metadata": {},
   "outputs": [
    {
     "name": "stdout",
     "output_type": "stream",
     "text": [
      "Matrix 1:\n",
      " [[1 2]\n",
      " [3 4]]\n",
      "Matrix 2:\n",
      " [[5 6]\n",
      " [7 8]]\n",
      "Result of Matrix Multiplication:\n",
      " [[19 22]\n",
      " [43 50]]\n"
     ]
    }
   ],
   "source": [
    "matrix1 = np.array([[1, 2], [3, 4]])\n",
    "matrix2 = np.array([[5, 6], [7, 8]])\n",
    "\n",
    "result = np.dot(matrix1, matrix2)\n",
    "\n",
    "print(\"Matrix 1:\\n\", matrix1)\n",
    "print(\"Matrix 2:\\n\", matrix2)\n",
    "print(\"Result of Matrix Multiplication:\\n\", result)"
   ]
  },
  {
   "cell_type": "code",
   "execution_count": null,
   "id": "eb5f506b",
   "metadata": {},
   "outputs": [],
   "source": [
    "\"\"\"65. Create an array of 50 integers between 10 and 1000. Calculate the 10th, 50th (median), and 90th\n",
    "percentiles along with the first and third quartiles."
   ]
  },
  {
   "cell_type": "code",
   "execution_count": 21,
   "id": "0c47b3ef",
   "metadata": {},
   "outputs": [
    {
     "name": "stdout",
     "output_type": "stream",
     "text": [
      "Array:\n",
      " [270 651 593 369  90  86  87 519  70 481 832 584  11 637  45  46 554 420\n",
      " 422 143 545 569 905  39 484 999 932 204 262 491 644 467 898 353 842 962\n",
      " 714 611 955 422  21 714  24  39 893  96 863 141 893 809]\n",
      "10th Percentile: 44.400000000000006\n",
      "50th Percentile (Median): 487.5\n",
      "90th Percentile: 898.7\n",
      "First Quartile (25th Percentile): 141.5\n",
      "Third Quartile (75th Percentile): 714.0\n"
     ]
    }
   ],
   "source": [
    "array = np.random.randint(10, 1001, size=50)\n",
    "print(\"Array:\\n\", array)\n",
    "\n",
    "percentile_10 = np.percentile(array, 10)\n",
    "percentile_50 = np.percentile(array, 50)  \n",
    "percentile_90 = np.percentile(array, 90)\n",
    "\n",
    "first_quartile = np.percentile(array, 25)\n",
    "third_quartile = np.percentile(array, 75)\n",
    "\n",
    "print(\"10th Percentile:\", percentile_10)\n",
    "print(\"50th Percentile (Median):\", percentile_50)\n",
    "print(\"90th Percentile:\", percentile_90)\n",
    "print(\"First Quartile (25th Percentile):\", first_quartile)\n",
    "print(\"Third Quartile (75th Percentile):\", third_quartile)"
   ]
  },
  {
   "cell_type": "code",
   "execution_count": null,
   "id": "c24bd72f",
   "metadata": {},
   "outputs": [],
   "source": [
    "\"\"\"66. Create a NumPy array of integers and find the index of a specific element."
   ]
  },
  {
   "cell_type": "code",
   "execution_count": 22,
   "id": "9a1f1c26",
   "metadata": {},
   "outputs": [
    {
     "name": "stdout",
     "output_type": "stream",
     "text": [
      "The index of element 50 is: [4]\n"
     ]
    }
   ],
   "source": [
    "array = np.array([10, 20, 30, 40, 50, 60, 70, 80, 90, 100])\n",
    "\n",
    "element_to_find = 50\n",
    "\n",
    "indices = np.where(array == element_to_find)\n",
    "\n",
    "index_list = indices[0].tolist()\n",
    "\n",
    "\n",
    "if index_list:\n",
    "    print(f\"The index of element {element_to_find} is: {index_list}\")\n",
    "else:\n",
    "    print(f\"Element {element_to_find} is not found in the array.\")"
   ]
  },
  {
   "cell_type": "code",
   "execution_count": null,
   "id": "4208d841",
   "metadata": {},
   "outputs": [],
   "source": [
    "\"\"\"67. Generate a random NumPy array and sort it in ascending order."
   ]
  },
  {
   "cell_type": "code",
   "execution_count": 23,
   "id": "a9e97403",
   "metadata": {},
   "outputs": [
    {
     "name": "stdout",
     "output_type": "stream",
     "text": [
      "Random Array:\n",
      " [87 90 69 65 12 50 71  2 56 25]\n",
      "Sorted Array:\n",
      " [ 2 12 25 50 56 65 69 71 87 90]\n"
     ]
    }
   ],
   "source": [
    "random_array = np.random.randint(1, 101, size=10)\n",
    "print(\"Random Array:\\n\", random_array)\n",
    "\n",
    "sorted_array = np.sort(random_array)\n",
    "print(\"Sorted Array:\\n\", sorted_array)"
   ]
  },
  {
   "cell_type": "code",
   "execution_count": null,
   "id": "77e255b3",
   "metadata": {},
   "outputs": [],
   "source": [
    "\"\"\"68. Filter elements >20  in the given NumPy array.\n",
    "arr = np.array([12, 25, 6, 42, 8, 30])"
   ]
  },
  {
   "cell_type": "code",
   "execution_count": 24,
   "id": "d6a25b36",
   "metadata": {},
   "outputs": [
    {
     "name": "stdout",
     "output_type": "stream",
     "text": [
      "Original Array:\n",
      " [12 25  6 42  8 30]\n",
      "Filtered Array (elements > 20):\n",
      " [25 42 30]\n"
     ]
    }
   ],
   "source": [
    "arr = np.array([12, 25, 6, 42, 8, 30])\n",
    "\n",
    "filtered_arr = arr[arr > 20]\n",
    "\n",
    "print(\"Original Array:\\n\", arr)\n",
    "print(\"Filtered Array (elements > 20):\\n\", filtered_arr)"
   ]
  },
  {
   "cell_type": "code",
   "execution_count": null,
   "id": "852c0bb9",
   "metadata": {},
   "outputs": [],
   "source": [
    "\"\"\"69. Filter elements which are divisible by 3 from a given NumPy array.\n",
    "arr = np.array([1, 5, 8, 12, 15])"
   ]
  },
  {
   "cell_type": "code",
   "execution_count": 25,
   "id": "943971de",
   "metadata": {},
   "outputs": [
    {
     "name": "stdout",
     "output_type": "stream",
     "text": [
      "Original Array:\n",
      " [ 1  5  8 12 15]\n",
      "Filtered Array (elements divisible by 3):\n",
      " [12 15]\n"
     ]
    }
   ],
   "source": [
    "arr = np.array([1, 5, 8, 12, 15])\n",
    "\n",
    "filtered_arr = arr[arr % 3 == 0]\n",
    "\n",
    "print(\"Original Array:\\n\", arr)\n",
    "print(\"Filtered Array (elements divisible by 3):\\n\", filtered_arr)"
   ]
  },
  {
   "cell_type": "code",
   "execution_count": null,
   "id": "4c74fc36",
   "metadata": {},
   "outputs": [],
   "source": [
    "\"\"\"70. Filter elements which are ≥ 20 and ≤ 40 from a given NumPy array\n",
    "arr = np.array([10, 20, 30, 40, 50])"
   ]
  },
  {
   "cell_type": "code",
   "execution_count": 26,
   "id": "e149e776",
   "metadata": {},
   "outputs": [
    {
     "name": "stdout",
     "output_type": "stream",
     "text": [
      "Original Array:\n",
      " [10 20 30 40 50]\n",
      "Filtered Array (elements ≥ 20 and ≤ 40):\n",
      " [20 30 40]\n"
     ]
    }
   ],
   "source": [
    "arr = np.array([10, 20, 30, 40, 50])\n",
    "\n",
    "filtered_arr = arr[(arr >= 20) & (arr <= 40)]\n",
    "\n",
    "print(\"Original Array:\\n\", arr)\n",
    "print(\"Filtered Array (elements ≥ 20 and ≤ 40):\\n\", filtered_arr)"
   ]
  },
  {
   "cell_type": "code",
   "execution_count": null,
   "id": "2b69f082",
   "metadata": {},
   "outputs": [],
   "source": [
    "\"\"\"71. For the given NumPy array, check its byte order using the `dtype` attribute byteorder\n",
    "arr = np.array([1, 2, 3])"
   ]
  },
  {
   "cell_type": "code",
   "execution_count": 27,
   "id": "3a2e8ea0",
   "metadata": {},
   "outputs": [
    {
     "name": "stdout",
     "output_type": "stream",
     "text": [
      "Byte Order: Native endian\n"
     ]
    }
   ],
   "source": [
    "arr = np.array([1, 2, 3])\n",
    "\n",
    "byte_order = arr.dtype.byteorder\n",
    "\n",
    "if byte_order == '>':\n",
    "    byte_order_str = 'Big-endian'\n",
    "elif byte_order == '<':\n",
    "    byte_order_str = 'Little-endian'\n",
    "elif byte_order == '=':\n",
    "    byte_order_str = 'Native endian'\n",
    "else:\n",
    "    byte_order_str = 'Unknown'\n",
    "\n",
    "print(\"Byte Order:\", byte_order_str)"
   ]
  },
  {
   "cell_type": "code",
   "execution_count": null,
   "id": "609cd804",
   "metadata": {},
   "outputs": [],
   "source": [
    "\"\"\"72. For the given NumPy array, perform byte swapping in place using `byteswap()`.\n",
    "arr = np.array([1, 2, 3], dtype=np.int32)"
   ]
  },
  {
   "cell_type": "code",
   "execution_count": 28,
   "id": "8f13205b",
   "metadata": {},
   "outputs": [
    {
     "name": "stdout",
     "output_type": "stream",
     "text": [
      "Original Array:\n",
      " [1 2 3]\n",
      "Array After Byte Swapping:\n",
      " [16777216 33554432 50331648]\n"
     ]
    }
   ],
   "source": [
    "arr = np.array([1, 2, 3], dtype=np.int32)\n",
    "print(\"Original Array:\\n\", arr)\n",
    "\n",
    "arr.byteswap(inplace=True)\n",
    "print(\"Array After Byte Swapping:\\n\", arr)"
   ]
  },
  {
   "cell_type": "code",
   "execution_count": null,
   "id": "46bb5401",
   "metadata": {},
   "outputs": [],
   "source": [
    "\"\"\"73. For the given NumPy array, swap its byte order without modifying the original array using\n",
    "`newbyteorder()`.\n",
    "arr = np.array([1, 2, 3], dtype=np.int32)"
   ]
  },
  {
   "cell_type": "code",
   "execution_count": 29,
   "id": "56a71eb7",
   "metadata": {},
   "outputs": [
    {
     "name": "stdout",
     "output_type": "stream",
     "text": [
      "Original Array:\n",
      " [1 2 3]\n",
      "Array with Swapped Byte Order:\n",
      " [16777216 33554432 50331648]\n"
     ]
    }
   ],
   "source": [
    "arr = np.array([1, 2, 3], dtype=np.int32)\n",
    "print(\"Original Array:\\n\", arr)\n",
    "\n",
    "swapped_arr = arr.newbyteorder()\n",
    "print(\"Array with Swapped Byte Order:\\n\", swapped_arr)"
   ]
  },
  {
   "cell_type": "code",
   "execution_count": null,
   "id": "f2a60cae",
   "metadata": {},
   "outputs": [],
   "source": [
    "\"\"\"74. For the given NumPy array and swap its byte order conditionally based on system endianness using\n",
    "`newbyteorder()`.\n",
    "arr = np.array([1, 2, 3], dtype=np.int32)"
   ]
  },
  {
   "cell_type": "code",
   "execution_count": 30,
   "id": "ed9b0782",
   "metadata": {},
   "outputs": [
    {
     "name": "stdout",
     "output_type": "stream",
     "text": [
      "Original Array:\n",
      " [1 2 3]\n",
      "Array with Conditioned Byte Order:\n",
      " [1 2 3]\n"
     ]
    }
   ],
   "source": [
    "arr = np.array([1, 2, 3], dtype=np.int32)\n",
    "print(\"Original Array:\\n\", arr)\n",
    "\n",
    "system_byte_order = np.dtype(np.int32).byteorder\n",
    "\n",
    "if system_byte_order == '<':  \n",
    "    target_byte_order = '>'\n",
    "elif system_byte_order == '>':  \n",
    "    target_byte_order = '<'\n",
    "else:\n",
    "    target_byte_order = '='  \n",
    "\n",
    "swapped_arr = arr.newbyteorder(target_byte_order)\n",
    "print(\"Array with Conditioned Byte Order:\\n\", swapped_arr)"
   ]
  },
  {
   "cell_type": "code",
   "execution_count": null,
   "id": "698ba9fc",
   "metadata": {},
   "outputs": [],
   "source": [
    "\"\"\"75. For the given NumPy array, check if byte swapping is necessary for the current system using `dtype`\n",
    "attribute `byteorder\n",
    "arr = np.array([1, 2, 3], dtype=np.int32)"
   ]
  },
  {
   "cell_type": "code",
   "execution_count": 31,
   "id": "9941e807",
   "metadata": {},
   "outputs": [
    {
     "name": "stdout",
     "output_type": "stream",
     "text": [
      "Byte swapping is not necessary. Array byte order matches system byte order.\n"
     ]
    }
   ],
   "source": [
    "arr = np.array([1, 2, 3], dtype=np.int32)\n",
    "\n",
    "system_byte_order = np.dtype(np.int32).byteorder\n",
    "\n",
    "array_byte_order = arr.dtype.byteorder\n",
    "\n",
    "if array_byte_order == system_byte_order:\n",
    "    print(\"Byte swapping is not necessary. Array byte order matches system byte order.\")\n",
    "else:\n",
    "    print(\"Byte swapping is necessary. Array byte order differs from system byte order.\")"
   ]
  },
  {
   "cell_type": "code",
   "execution_count": null,
   "id": "fc688154",
   "metadata": {},
   "outputs": [],
   "source": [
    "\"\"\"76. Create a NumPy array `arr1` with values from 1 to 10. Create a copy of `arr1` named `copy_arr` and modify\n",
    "an element in `copy_arr`. Check if modifying `copy_arr` affects `arr1`."
   ]
  },
  {
   "cell_type": "code",
   "execution_count": 32,
   "id": "272bf999",
   "metadata": {},
   "outputs": [
    {
     "name": "stdout",
     "output_type": "stream",
     "text": [
      "Original Array (arr1):\n",
      " [ 1  2  3  4  5  6  7  8  9 10]\n",
      "Copied Array (copy_arr):\n",
      " [ 1  2  3  4  5  6  7  8  9 10]\n",
      "Modified Copied Array (copy_arr):\n",
      " [100   2   3   4   5   6   7   8   9  10]\n",
      "Original Array After Modification (arr1):\n",
      " [ 1  2  3  4  5  6  7  8  9 10]\n"
     ]
    }
   ],
   "source": [
    "arr1 = np.arange(1, 11)\n",
    "print(\"Original Array (arr1):\\n\", arr1)\n",
    "\n",
    "copy_arr = arr1.copy()\n",
    "print(\"Copied Array (copy_arr):\\n\", copy_arr)\n",
    "\n",
    "copy_arr[0] = 100\n",
    "print(\"Modified Copied Array (copy_arr):\\n\", copy_arr)\n",
    "\n",
    "print(\"Original Array After Modification (arr1):\\n\", arr1)"
   ]
  },
  {
   "cell_type": "code",
   "execution_count": null,
   "id": "0af9d194",
   "metadata": {},
   "outputs": [],
   "source": [
    "\"\"\"78. Create a NumPy array `array_a` of shape (4, 3) with sequential integers from 1 to 12. Extract a slice\n",
    "`view_b` from `array_a` and broadcast the addition of 5 to view_b. Check if it alters the original `array_a`."
   ]
  },
  {
   "cell_type": "code",
   "execution_count": 33,
   "id": "b8934b77",
   "metadata": {},
   "outputs": [
    {
     "name": "stdout",
     "output_type": "stream",
     "text": [
      "Original Array (array_a):\n",
      " [[ 1  2  3]\n",
      " [ 4  5  6]\n",
      " [ 7  8  9]\n",
      " [10 11 12]]\n",
      "View (view_b):\n",
      " [[5 6]\n",
      " [8 9]]\n",
      "Modified View (view_b):\n",
      " [[10 11]\n",
      " [13 14]]\n",
      "Original Array After Modification (array_a):\n",
      " [[ 1  2  3]\n",
      " [ 4 10 11]\n",
      " [ 7 13 14]\n",
      " [10 11 12]]\n"
     ]
    }
   ],
   "source": [
    "array_a = np.arange(1, 13).reshape(4, 3)\n",
    "print(\"Original Array (array_a):\\n\", array_a)\n",
    "\n",
    "view_b = array_a[1:3, 1:3]\n",
    "print(\"View (view_b):\\n\", view_b)\n",
    "\n",
    "view_b += 5\n",
    "print(\"Modified View (view_b):\\n\", view_b)\n",
    "\n",
    "print(\"Original Array After Modification (array_a):\\n\", array_a)"
   ]
  },
  {
   "cell_type": "code",
   "execution_count": null,
   "id": "bed4f6bc",
   "metadata": {},
   "outputs": [],
   "source": [
    "\"\"\"79. Create a NumPy array `orig_array` of shape (2, 4) with values from 1 to 8. Create a reshaped view\n",
    "`reshaped_view` of shape (4, 2) from orig_array. Modify an element in `reshaped_view` and check if it\n",
    "reflects changes in the original `orig_array`.\"\"\""
   ]
  },
  {
   "cell_type": "code",
   "execution_count": 34,
   "id": "39e8fe7f",
   "metadata": {},
   "outputs": [
    {
     "name": "stdout",
     "output_type": "stream",
     "text": [
      "Original Array (orig_array):\n",
      " [[1 2 3 4]\n",
      " [5 6 7 8]]\n",
      "Reshaped View (reshaped_view):\n",
      " [[1 2]\n",
      " [3 4]\n",
      " [5 6]\n",
      " [7 8]]\n",
      "Modified Reshaped View (reshaped_view):\n",
      " [[ 1  2]\n",
      " [99  4]\n",
      " [ 5  6]\n",
      " [ 7  8]]\n",
      "Original Array After Modification (orig_array):\n",
      " [[ 1  2 99  4]\n",
      " [ 5  6  7  8]]\n"
     ]
    }
   ],
   "source": [
    "orig_array = np.arange(1, 9).reshape(2, 4)\n",
    "print(\"Original Array (orig_array):\\n\", orig_array)\n",
    "\n",
    "reshaped_view = orig_array.reshape(4, 2)\n",
    "print(\"Reshaped View (reshaped_view):\\n\", reshaped_view)\n",
    "\n",
    "reshaped_view[1, 0] = 99\n",
    "print(\"Modified Reshaped View (reshaped_view):\\n\", reshaped_view)\n",
    "\n",
    "print(\"Original Array After Modification (orig_array):\\n\", orig_array)"
   ]
  },
  {
   "cell_type": "code",
   "execution_count": null,
   "id": "99f7a3a5",
   "metadata": {},
   "outputs": [],
   "source": [
    "\"\"\"80. Create a NumPy array `data` of shape (3, 4) with random integers. Extract a copy `data_copy` of\n",
    "elements greater than 5. Modify an element in `data_copy` and verify if it affects the original `data`."
   ]
  },
  {
   "cell_type": "code",
   "execution_count": 35,
   "id": "7948a0f8",
   "metadata": {},
   "outputs": [
    {
     "name": "stdout",
     "output_type": "stream",
     "text": [
      "Original Data (data):\n",
      " [[6 1 4 4]\n",
      " [8 4 6 3]\n",
      " [5 8 7 9]]\n",
      "Copy of Elements Greater Than 5 (data_copy):\n",
      " [6 8 6 8 7 9]\n",
      "Modified Copy (data_copy):\n",
      " [99  8  6  8  7  9]\n",
      "Original Data After Modification (data):\n",
      " [[6 1 4 4]\n",
      " [8 4 6 3]\n",
      " [5 8 7 9]]\n"
     ]
    }
   ],
   "source": [
    "np.random.seed(0) \n",
    "data = np.random.randint(1, 10, size=(3, 4))\n",
    "print(\"Original Data (data):\\n\", data)\n",
    "\n",
    "data_copy = data[data > 5].copy()\n",
    "print(\"Copy of Elements Greater Than 5 (data_copy):\\n\", data_copy)\n",
    "\n",
    "data_copy[0] = 99\n",
    "print(\"Modified Copy (data_copy):\\n\", data_copy)\n",
    "\n",
    "print(\"Original Data After Modification (data):\\n\", data)"
   ]
  },
  {
   "cell_type": "code",
   "execution_count": null,
   "id": "21d31385",
   "metadata": {},
   "outputs": [],
   "source": [
    "\"\"\"81. Create two matrices A and B of identical shape containing integers and perform addition and subtraction\n",
    "operations between them"
   ]
  },
  {
   "cell_type": "code",
   "execution_count": 36,
   "id": "f4fbeb57",
   "metadata": {},
   "outputs": [
    {
     "name": "stdout",
     "output_type": "stream",
     "text": [
      "Matrix A:\n",
      " [[1 2 3]\n",
      " [4 5 6]]\n",
      "Matrix B:\n",
      " [[ 7  8  9]\n",
      " [10 11 12]]\n",
      "Addition Result (A + B):\n",
      " [[ 8 10 12]\n",
      " [14 16 18]]\n",
      "Subtraction Result (A - B):\n",
      " [[-6 -6 -6]\n",
      " [-6 -6 -6]]\n"
     ]
    }
   ],
   "source": [
    "A = np.array([[1, 2, 3], [4, 5, 6]])\n",
    "B = np.array([[7, 8, 9], [10, 11, 12]])\n",
    "\n",
    "print(\"Matrix A:\\n\", A)\n",
    "print(\"Matrix B:\\n\", B)\n",
    "\n",
    "addition_result = A + B\n",
    "subtraction_result = A - B\n",
    "\n",
    "print(\"Addition Result (A + B):\\n\", addition_result)\n",
    "print(\"Subtraction Result (A - B):\\n\", subtraction_result)"
   ]
  },
  {
   "cell_type": "code",
   "execution_count": null,
   "id": "b63c2d59",
   "metadata": {},
   "outputs": [],
   "source": [
    "\"\"\"82. Generate two matrices `C` (3x2) and `D` (2x4) and perform matrix multiplicatio"
   ]
  },
  {
   "cell_type": "code",
   "execution_count": 37,
   "id": "854f361d",
   "metadata": {},
   "outputs": [
    {
     "name": "stdout",
     "output_type": "stream",
     "text": [
      "Matrix C (3x2):\n",
      " [[1 2]\n",
      " [3 4]\n",
      " [5 6]]\n",
      "Matrix D (2x4):\n",
      " [[ 7  8  9 10]\n",
      " [11 12 13 14]]\n",
      "Result of Matrix Multiplication (C * D):\n",
      " [[ 29  32  35  38]\n",
      " [ 65  72  79  86]\n",
      " [101 112 123 134]]\n"
     ]
    }
   ],
   "source": [
    "C = np.array([[1, 2], [3, 4], [5, 6]])\n",
    "D = np.array([[7, 8, 9, 10], [11, 12, 13, 14]])\n",
    "\n",
    "print(\"Matrix C (3x2):\\n\", C)\n",
    "print(\"Matrix D (2x4):\\n\", D)\n",
    "\n",
    "result = np.dot(C, D)\n",
    "\n",
    "\n",
    "print(\"Result of Matrix Multiplication (C * D):\\n\", result)"
   ]
  },
  {
   "cell_type": "code",
   "execution_count": null,
   "id": "54807ca6",
   "metadata": {},
   "outputs": [],
   "source": [
    "\"\"\"83. Create a matrix `E` and find its transpose."
   ]
  },
  {
   "cell_type": "code",
   "execution_count": 38,
   "id": "9b5cc080",
   "metadata": {},
   "outputs": [
    {
     "name": "stdout",
     "output_type": "stream",
     "text": [
      "Original Matrix E:\n",
      " [[1 2 3]\n",
      " [4 5 6]\n",
      " [7 8 9]]\n",
      "Transpose of Matrix E:\n",
      " [[1 4 7]\n",
      " [2 5 8]\n",
      " [3 6 9]]\n"
     ]
    }
   ],
   "source": [
    "E = np.array([[1, 2, 3], [4, 5, 6], [7, 8, 9]])\n",
    "print(\"Original Matrix E:\\n\", E)\n",
    "\n",
    "E_transpose = E.T\n",
    "print(\"Transpose of Matrix E:\\n\", E_transpose)"
   ]
  },
  {
   "cell_type": "code",
   "execution_count": null,
   "id": "d954aff7",
   "metadata": {},
   "outputs": [],
   "source": [
    "\"\"\"84. Generate a square matrix `F` and compute its determinant."
   ]
  },
  {
   "cell_type": "code",
   "execution_count": 39,
   "id": "98998aa9",
   "metadata": {},
   "outputs": [
    {
     "name": "stdout",
     "output_type": "stream",
     "text": [
      "Matrix F:\n",
      " [[1 2 3]\n",
      " [4 5 6]\n",
      " [7 8 9]]\n",
      "Determinant of Matrix F: -9.51619735392994e-16\n"
     ]
    }
   ],
   "source": [
    "F = np.array([[1, 2, 3], [4, 5, 6], [7, 8, 9]])\n",
    "print(\"Matrix F:\\n\", F)\n",
    "\n",
    "determinant_F = np.linalg.det(F)\n",
    "print(\"Determinant of Matrix F:\", determinant_F)"
   ]
  },
  {
   "cell_type": "code",
   "execution_count": null,
   "id": "a009c593",
   "metadata": {},
   "outputs": [],
   "source": [
    "\"\"\"85. Create a square matrix `G` and find its inverse."
   ]
  },
  {
   "cell_type": "code",
   "execution_count": 40,
   "id": "ce81442c",
   "metadata": {},
   "outputs": [
    {
     "name": "stdout",
     "output_type": "stream",
     "text": [
      "Matrix G:\n",
      " [[1 2 3]\n",
      " [0 1 4]\n",
      " [5 6 0]]\n",
      "Inverse of Matrix G:\n",
      " [[-24.  18.   5.]\n",
      " [ 20. -15.  -4.]\n",
      " [ -5.   4.   1.]]\n"
     ]
    }
   ],
   "source": [
    "G = np.array([[1, 2, 3], [0, 1, 4], [5, 6, 0]])\n",
    "print(\"Matrix G:\\n\", G)\n",
    "\n",
    "try:\n",
    "    G_inv = np.linalg.inv(G)\n",
    "    print(\"Inverse of Matrix G:\\n\", G_inv)\n",
    "except np.linalg.LinAlgError:\n",
    "    print(\"Matrix G is singular and cannot be inverted.\")"
   ]
  }
 ],
 "metadata": {
  "kernelspec": {
   "display_name": "Python 3 (ipykernel)",
   "language": "python",
   "name": "python3"
  },
  "language_info": {
   "codemirror_mode": {
    "name": "ipython",
    "version": 3
   },
   "file_extension": ".py",
   "mimetype": "text/x-python",
   "name": "python",
   "nbconvert_exporter": "python",
   "pygments_lexer": "ipython3",
   "version": "3.11.5"
  }
 },
 "nbformat": 4,
 "nbformat_minor": 5
}
